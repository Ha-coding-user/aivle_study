{
 "cells": [
  {
   "cell_type": "markdown",
   "metadata": {},
   "source": [
    "# 1. 데이터 불러오기"
   ]
  },
  {
   "cell_type": "code",
   "execution_count": 14,
   "metadata": {},
   "outputs": [],
   "source": [
    "import numpy as np\n",
    "import pandas as pd\n",
    "import warnings\n",
    "\n",
    "warnings.filterwarnings('ignore')"
   ]
  },
  {
   "cell_type": "code",
   "execution_count": 36,
   "metadata": {},
   "outputs": [],
   "source": [
    "df_total = pd.read_csv('df_total.csv', index_col=0)\n",
    "df_test = pd.read_csv('df_test.csv', index_col=0)"
   ]
  },
  {
   "cell_type": "markdown",
   "metadata": {},
   "source": [
    "# 2. 데이터 전처리"
   ]
  },
  {
   "cell_type": "code",
   "execution_count": 37,
   "metadata": {},
   "outputs": [],
   "source": [
    "# 기준일 ID -> 날짜 데이터 추출\n",
    "df_total['기준일ID'] = pd.to_datetime(df_total['기준일ID'])\n",
    "df_test['기준일ID'] = pd.to_datetime(df_test['기준일ID'])"
   ]
  },
  {
   "cell_type": "code",
   "execution_count": 38,
   "metadata": {},
   "outputs": [],
   "source": [
    "df_total['year'] = df_total['기준일ID'].dt.year\n",
    "df_total['month'] = df_total['기준일ID'].dt.month\n",
    "df_total['day'] = df_total['기준일ID'].dt.day\n",
    "\n",
    "df_test['year'] = df_test['기준일ID'].dt.year\n",
    "df_test['month'] = df_test['기준일ID'].dt.month\n",
    "df_test['day'] = df_test['기준일ID'].dt.day"
   ]
  },
  {
   "cell_type": "code",
   "execution_count": 39,
   "metadata": {},
   "outputs": [
    {
     "data": {
      "text/html": [
       "<div>\n",
       "<style scoped>\n",
       "    .dataframe tbody tr th:only-of-type {\n",
       "        vertical-align: middle;\n",
       "    }\n",
       "\n",
       "    .dataframe tbody tr th {\n",
       "        vertical-align: top;\n",
       "    }\n",
       "\n",
       "    .dataframe thead th {\n",
       "        text-align: right;\n",
       "    }\n",
       "</style>\n",
       "<table border=\"1\" class=\"dataframe\">\n",
       "  <thead>\n",
       "    <tr style=\"text-align: right;\">\n",
       "      <th></th>\n",
       "      <th>year</th>\n",
       "      <th>month</th>\n",
       "      <th>day</th>\n",
       "      <th>휴일</th>\n",
       "      <th>시간대구분</th>\n",
       "      <th>총생활인구수</th>\n",
       "    </tr>\n",
       "  </thead>\n",
       "  <tbody>\n",
       "    <tr>\n",
       "      <th>0</th>\n",
       "      <td>2017</td>\n",
       "      <td>1</td>\n",
       "      <td>1</td>\n",
       "      <td>1</td>\n",
       "      <td>0</td>\n",
       "      <td>31535.22</td>\n",
       "    </tr>\n",
       "  </tbody>\n",
       "</table>\n",
       "</div>"
      ],
      "text/plain": [
       "   year  month  day  휴일  시간대구분    총생활인구수\n",
       "0  2017      1    1   1      0  31535.22"
      ]
     },
     "execution_count": 39,
     "metadata": {},
     "output_type": "execute_result"
    }
   ],
   "source": [
    "# 불필요한 열 제거 및 열 이름 변경('총생활인구수' 외에 불필요한 열 제거)\n",
    "# 시간 데이터 남기고, '시간대구분' column 을 'hour'로 rename\n",
    "\n",
    "df_total_process = df_total[['year', 'month', 'day', '휴일', '시간대구분', '총생활인구수']]\n",
    "df_test_process = df_test[['year', 'month', 'day', '휴일', '시간대구분', '총생활인구수']]\n",
    "\n",
    "df_total_process.rename(columns={'시간대구분': 'hour'})\n",
    "df_test_process.rename(columns={'시간대구분': 'hour'})\n",
    "df_total_process.head(1)"
   ]
  },
  {
   "cell_type": "code",
   "execution_count": 40,
   "metadata": {},
   "outputs": [],
   "source": [
    "# rolling 및 shift -> 일주일 이동 평균을 계산하기 위해 rolling_7 변수 추가\n",
    "df_total_process['rolling_7'] = df_total_process['총생활인구수'].rolling(window=7*24, min_periods=7*24).mean()\n",
    "df_test_process['rolling_7'] = df_total_process['총생활인구수'].rolling(window=7*24, min_periods=7*24).mean()\n",
    "\n",
    "# 일주일 전 data와 비교하기 위해 shift 수행\n",
    "df_total_process['shift_7'] = df_total_process['총생활인구수'].shift(7*24)\n",
    "df_test_process['shift_7'] = df_test_process['총생활인구수'].shift(7*24)\n",
    "\n",
    "# 결측치 제거 -> 행 단위로 제거했음(영향이 크게 없다 생각하였음)\n",
    "df_total_process.dropna(axis=0, inplace=True)\n",
    "df_test_process.dropna(axis=0, inplace=True)\n",
    "\n",
    "df_total_process.reset_index(drop=True, inplace=True)\n",
    "df_test_process.reset_index(drop=True, inplace=True)"
   ]
  },
  {
   "cell_type": "code",
   "execution_count": 42,
   "metadata": {},
   "outputs": [],
   "source": [
    "# train, test 데이터를 train_x, train_y, test_x, test_y로 나누기\n",
    "target = '총생활인구수'\n",
    "\n",
    "train_x = df_total_process.drop(target, axis=1)\n",
    "train_y = df_total_process.loc[:, target]\n",
    "test_x = df_test_process.drop(target, axis=1)\n",
    "test_y = df_test_process.loc[:, target]"
   ]
  },
  {
   "cell_type": "code",
   "execution_count": 46,
   "metadata": {},
   "outputs": [],
   "source": [
    "# 데이터 저장\n",
    "train_x.to_csv('train_x.csv', index = False)\n",
    "train_y.to_csv('train_y.csv', index = False)\n",
    "test_x.to_csv('test_x.csv', index = False)\n",
    "test_y.to_csv('test_y.csv', index = False)"
   ]
  },
  {
   "cell_type": "code",
   "execution_count": null,
   "metadata": {},
   "outputs": [],
   "source": []
  }
 ],
 "metadata": {
  "kernelspec": {
   "display_name": "base",
   "language": "python",
   "name": "python3"
  },
  "language_info": {
   "codemirror_mode": {
    "name": "ipython",
    "version": 3
   },
   "file_extension": ".py",
   "mimetype": "text/x-python",
   "name": "python",
   "nbconvert_exporter": "python",
   "pygments_lexer": "ipython3",
   "version": "3.9.13"
  }
 },
 "nbformat": 4,
 "nbformat_minor": 2
}
