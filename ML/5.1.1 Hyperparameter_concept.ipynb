{
 "cells": [
  {
   "cell_type": "markdown",
   "metadata": {},
   "source": [
    "# Hyperparameter"
   ]
  },
  {
   "cell_type": "markdown",
   "metadata": {},
   "source": [
    "#### Hyperparameter\n",
    "- Hyperparameter : 알고리즘을 사용해 모델링할 때 모델 성능을 최적화하기 위해 조절할 수 있는 매개변수\n",
    "- 튜닝은 **정답이 없다** => 지식 + 경험 + 다양한 시도\n",
    "- 즉, 모델 성능 향상을 위해 최선의 hyperparameter 값을 찾는 다양한 시도를 해야 함\n",
    "- 방법\n",
    "    - Grid Search\n",
    "    - Random Search"
   ]
  },
  {
   "cell_type": "markdown",
   "metadata": {},
   "source": [
    "#### KNN\n",
    "- k(n_neighbors)값에 따라 성능이 달라짐\n",
    "- k 값이 가장 큼(=전체 데이터 개수) => 가장 단순\n",
    "- k 값이 작을 수록 복잡한 모델\n",
    "- 거리 계산법에 따라 성능 달라짐"
   ]
  },
  {
   "cell_type": "markdown",
   "metadata": {},
   "source": [
    "#### Decision Tree\n",
    "- max_depth\n",
    "    - 트리 최대 깊이 제한\n",
    "    - 작을수록 트리 깊이 제한으로 인해 단순해짐\n",
    "- min_samples_leaf\n",
    "    - leaf가 되기 위한 최소한의 샘플 데이터 수\n",
    "    - 값이 클 수록 모델이 단순\n",
    "- min_samples_split\n",
    "    - 노드를 분할하기 위한 최소한의 샘플 데이터 수\n",
    "    - 값이 클 수록 모델 단순\n",
    "    \n",
    "<font color=red>hyperparameter를 조정해 모델을 단순화 시켜 overfitting 줄임</font>\n"
   ]
  }
 ],
 "metadata": {
  "language_info": {
   "name": "python"
  },
  "orig_nbformat": 4
 },
 "nbformat": 4,
 "nbformat_minor": 2
}
