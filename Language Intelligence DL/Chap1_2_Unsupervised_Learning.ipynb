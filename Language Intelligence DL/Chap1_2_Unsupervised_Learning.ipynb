{
 "cells": [
  {
   "cell_type": "markdown",
   "metadata": {},
   "source": [
    "# Unsupervised Learning"
   ]
  },
  {
   "cell_type": "markdown",
   "metadata": {},
   "source": [
    "## Machine Learning Overview\n",
    "  \n",
    "<div style=\"text-align:center\">\n",
    "    <img src=\"https://github.com/Ha-coding-user/aivle_study/blob/main/Language%20Intelligence%20DL/image/Machine_Learning_overview.jpg?raw=true\">\n",
    "</div>"
   ]
  },
  {
   "cell_type": "markdown",
   "metadata": {},
   "source": [
    "## Classification vs Clustering\n",
    "\n",
    "#### 1. Classification\n",
    "- Supervised Learning\n",
    "- 사전에 분류된 instance로 부터 instance를 예측하는 방법을 학습\n",
    "\n",
    "#### 2. Clustering\n",
    "- Data 를 펼치고 segment를 알아서 나눔 **<span style=\"color:orange\">(label x)</span>**\\\n",
    "- 즉, <span style=\"color:orange\">Unsupervised Learning</span>\n",
    "- 따라서, clustering에는 group이 몇 개다 라는 정답이 없음\n",
    "  \n",
    "|group 1|group 2|\n",
    "|---|---|\n",
    "|Blue shark, sheep, cat, dog|Lizard, sparrow, viper, seagull, gold, fish, frog, red mullet|\n",
    "  \n",
    "1. Two clusters\n",
    "2. Clustering criterion: 포유류 여부\n",
    "  \n",
    "|group 1|group 2|\n",
    "|---|---|\n",
    "|gold fish, red mullet, blue shark|sheep, sparrow, dog, cat, seagull, lizard, frog, viper|\n",
    "  \n",
    "1. Two clusters\n",
    "2. Clustering criterion: 아가미 유무"
   ]
  },
  {
   "cell_type": "markdown",
   "metadata": {},
   "source": [
    "## Data Types and Representations\n",
    "\n",
    "#### 1. Data matrix(object-by-feature structure)\n",
    "$\\begin{bmatrix}x_{11}&...&x_{1f}&...&x_{1p}\\\\...&...&...&...&...\\\\x_{i1}&...&x_{if}&...&x_{ip}\\\\...&...&...&...&...\\\\x_{n1}&...&x_{nf}&...&x_{np}  \\end{bmatrix}$\n",
    "- n개의 Data Points(objects), 차원 p(features)\n",
    "- row, column이 다른 entity 표현\n",
    "\n",
    "#### 2. Distance/dissimilarity matrix(object-by-object structure)\n",
    "$\\begin{bmatrix}0\\\\d(2,1)&0\\\\d(3,1)&d(3,2)&0\\\\...&...&...\\\\d(n,1)&d(n,2)&...&...&0  \\end{bmatrix}$\n",
    "- n개의 Data Points\n",
    "- symmetric/triangular matrix\n",
    "- row, column이 모두 distance를 의미"
   ]
  },
  {
   "cell_type": "markdown",
   "metadata": {},
   "source": [
    "## Distance Measures\n",
    "\n",
    "#### 1. Minkowski Distance\n",
    "$$\\large d(\\overrightarrow{x}, \\overrightarrow{y}) = (|x_1-y_1|^p + |x_2-y_2|^p + ... + |x_n-y_n|^p)^{1/p}$$\n",
    "$$for \\overrightarrow{x} = (x_1, ..., x_n) and \\overrightarrow{y} = (y_1, ..., y_n)$$\n",
    "\n",
    "- p = 1 : Manhattan distance\n",
    "- p = 2 : Euclidean distance\n",
    "\n",
    "#### 2. Cosine Measure(Similarity vs. Distance)\n",
    "$$\\large d(\\overrightarrow{x}, \\overrightarrow{y}) = 1 - cos(\\overrightarrow{x}, \\overrightarrow{y})$$\n",
    "$$\\large cos(\\overrightarrow{x}, \\overrightarrow{y}) = \\frac{x_1y_1 + ... + x_ny_n}{\\sqrt{x_1^2 + ... + x_n^2}\\sqrt{y_1^2 + ... + y_n^2}}$$\n",
    "$$for \\overrightarrow{x} = (x_1, ..., x_n) and \\overrightarrow{y} = (y_1, ..., y_n)$$\n",
    "  \n",
    "- property: $0 <= d(\\overrightarrow{x}, \\overrightarrow{y}) <= 2$"
   ]
  },
  {
   "cell_type": "markdown",
   "metadata": {},
   "source": [
    "## Cosine_similarity practice"
   ]
  },
  {
   "cell_type": "code",
   "execution_count": null,
   "metadata": {},
   "outputs": [],
   "source": [
    "!pip install feedparser\n",
    "!pip install newspaper3k\n",
    "!pip install konlpy"
   ]
  },
  {
   "cell_type": "code",
   "execution_count": 1,
   "metadata": {},
   "outputs": [],
   "source": [
    "import feedparser               # RSS에서 xml태그별 정보 추출(예: title, link, ...)\n",
    "from newspaper import Article   # 인터넷 신문기사 분석(아래: \"Article()\"를 사용하기 위해)\n",
    "from operator import eq         # 키워드를 입력받을 때 그 키워드가 본문에 있는지 확인하기 위해\n",
    "from bs4 import BeautifulSoup   # 글에 존재할지 모르는 html 태그 삭제"
   ]
  },
  {
   "cell_type": "code",
   "execution_count": 6,
   "metadata": {},
   "outputs": [
    {
     "name": "stdout",
     "output_type": "stream",
     "text": [
      "[Crawl RSS] http://rss.etnews.com/Section901.xml\n",
      "[Crawl RSS] http://rss.etnews.com/Section902.xml\n",
      "Duplicated Article: 전금업계 DR센터 의무화...“후방시장 활성화” VS “과도한 규제”\n",
      "Duplicated Article: [뉴스줌인] 삼성·SK하이닉스, 中 반도체 공장 최대 불확실성 해소…투자 재개는 '신중'\n",
      "Duplicated Article: 오비맥주 한맥, '슬로우 라이프 슬로우 라이브 2023'에 부드럽고 감미로운 가을 감성 만끽\n",
      "Duplicated Article: '송출 중단 코앞' 현대홈쇼핑-KT스카이라이프…막바지 협상 난항\n",
      "Duplicated Article: “정보보호업계에 내비 달아준다”…정부, 제로 트러스트 선도특허 분석 나서\n",
      "Duplicated Article: 美, 중국 내 삼성·SK 반도체 공장에 별도 허가없이 장비 공급 결정\n",
      "Duplicated Article: [2023 국감] 과방위 '가짜뉴스·R&D 예산' 공방 예고\n",
      "Duplicated Article: [산업 생산성혁신 방안 지상좌담회] “산업 생산성 혁신 위해 초격차 기술 개발해야”\n",
      "Duplicated Article: [박영락의 소통컨슈머리포트]〈14〉현대백화점면세점, 소통을 매출로…커머스 플랫폼으로의 진화\n",
      "Duplicated Article: “유망기업 발굴 넘어 고용창출까지” 강원대기술지주, 지역 창업 생태계 거점 도약\n",
      "Duplicated Article: 배터리 장비 10조대 주문 쏟아진다\n",
      "Duplicated Article: [人인사이트]도원동 커런트닷 대표 “PM 반납·주차 문제 해결...편리하고 깨끗한 '동네'로”\n",
      "Duplicated Article: [2023 국감]세수 펑크·오차율 논란…감세·재정준칙, 통계조작 도마에\n",
      "Duplicated Article: [2023 중소기업우수제품]스타양행 '뷰티 다용도 정리함'\n",
      "[Crawl RSS] http://rss.etnews.com/Section903.xml\n",
      "Duplicated Article: 배터리 장비 10조대 주문 쏟아진다\n",
      "[Crawl RSS] http://rss.etnews.com/Section904.xml\n",
      "Duplicated Article: 전금업계 DR센터 의무화...“후방시장 활성화” VS “과도한 규제”\n",
      "Duplicated Article: [뉴스줌인] 삼성·SK하이닉스, 中 반도체 공장 최대 불확실성 해소…투자 재개는 '신중'\n",
      "Duplicated Article: '송출 중단 코앞' 현대홈쇼핑-KT스카이라이프…막바지 협상 난항\n",
      "Duplicated Article: “정보보호업계에 내비 달아준다”…정부, 제로 트러스트 선도특허 분석 나서\n",
      "Duplicated Article: 美, 중국 내 삼성·SK 반도체 공장에 별도 허가없이 장비 공급 결정\n",
      "Duplicated Article: [2023 국감] 과방위 '가짜뉴스·R&D 예산' 공방 예고\n",
      "Duplicated Article: [산업 생산성혁신 방안 지상좌담회] “산업 생산성 혁신 위해 초격차 기술 개발해야”\n",
      "Duplicated Article: [박영락의 소통컨슈머리포트]〈14〉현대백화점면세점, 소통을 매출로…커머스 플랫폼으로의 진화\n",
      "Duplicated Article: “유망기업 발굴 넘어 고용창출까지” 강원대기술지주, 지역 창업 생태계 거점 도약\n",
      "Duplicated Article: 배터리 장비 10조대 주문 쏟아진다\n",
      "Duplicated Article: [人인사이트]도원동 커런트닷 대표 “PM 반납·주차 문제 해결...편리하고 깨끗한 '동네'로”\n",
      "Duplicated Article: [2023 국감]세수 펑크·오차율 논란…감세·재정준칙, 통계조작 도마에\n",
      "Duplicated Article: [2023 중소기업우수제품]스타양행 '뷰티 다용도 정리함'\n",
      "Duplicated Article: 기업가형 소상공인 별도 법 제정 추진…700만 소상공인 정책 지원 세분화 물꼬\n",
      "Duplicated Article: 차세대 반도체 시장 빅뱅…“전문인력 양성 정책 마련해야”\n",
      "Duplicated Article: [이상직 변호사의 디지털 창세기]〈37〉보이스피싱 언론, 가짜뉴스\n",
      "Duplicated Article: [맥스트의 메타버스] “새로운 경험·감동 전할 메타버스 '틀로나 월드' 연말 공개”\n",
      "Duplicated Article: XR 게임체인저 '메타 퀘스트3', 10일 국내 출격... 韓 게임사도 부각\n",
      "Duplicated Article: 방통위, 인앱결제법 위반 구글·애플에 680억원 과징금 부과...글로벌 시장에도 파장 예고\n",
      "Duplicated Article: 코소시스 엔드포인트 프로텍터 V5, 맥OS 14 소노마 지원\n",
      "Duplicated Article: '포블' 오리엔탈 판타지 NFT로 구현\n",
      "Duplicated Article: [단독]'연간 거래액 2조원' 전자금융업자 재해복구센터 구축 의무화\n",
      "Duplicated Article: '도전! K-스타트업 2023' 왕중왕전 진출 30개팀 선발\n",
      "Duplicated Article: [모빌리티 빅뱅]한지형 오토노머스에이투지 대표 “국내 완전 자율주행 생태계 육성…글로벌 시장 진출”\n",
      "Duplicated Article: [모빌리티 빅뱅]〈2〉운전자 없는 '레벨4' 자율주행 시대 열린다…韓 기업 도전장\n",
      "Duplicated Article: [모빌리티 빅뱅]자율주행 뛰어든 '빅테크', 완성차와 주도권 경쟁\n",
      "Duplicated Article: “AI로 특허 가치 평가”…지식재산평가관리센터 'SMART5' 고도화 추진\n",
      "Duplicated Article: 장덕현 '전장' 육성 통했다…현대차 1차 협력사 선정\n",
      "Duplicated Article: 유럽도 C-ITS 법제화 완료…업계 “한국은 표준경쟁으로 지지부진, 5G 로드맵 서둘러야”\n",
      "Duplicated Article: 휴네시온, 오투원즈-펀그라운드 M&A 지원…톱티어 OT보안 전문기업 성장\n",
      "[{'title': '전금업계 DR센터 의무화...“후방시장 활성화” VS “과도한 규제”', 'link': 'https://www.etnews.com/20231006000156'}, {'title': \"[뉴스줌인] 삼성·SK하이닉스, 中 반도체 공장 최대 불확실성 해소…투자 재개는 '신중'\", 'link': 'https://www.etnews.com/20231009000089'}, {'title': \"'송출 중단 코앞' 현대홈쇼핑-KT스카이라이프…막바지 협상 난항\", 'link': 'https://www.etnews.com/20231009000063'}, {'title': '“정보보호업계에 내비 달아준다”…정부, 제로 트러스트 선도특허 분석 나서', 'link': 'https://www.etnews.com/20231006000118'}, {'title': '美, 중국 내 삼성·SK 반도체 공장에 별도 허가없이 장비 공급 결정', 'link': 'https://www.etnews.com/20231009000083'}, {'title': \"[2023 국감] 과방위 '가짜뉴스·R&D 예산' 공방 예고\", 'link': 'https://www.etnews.com/20231009000011'}, {'title': '[산업 생산성혁신 방안 지상좌담회] “산업 생산성 혁신 위해 초격차 기술 개발해야”', 'link': 'https://www.etnews.com/20231009000008'}, {'title': '[박영락의 소통컨슈머리포트]〈14〉현대백화점면세점, 소통을 매출로…커머스 플랫폼으로의 진화', 'link': 'https://www.etnews.com/20231007000013'}, {'title': '“유망기업 발굴 넘어 고용창출까지” 강원대기술지주, 지역 창업 생태계 거점 도약', 'link': 'https://www.etnews.com/20231006000201'}, {'title': '배터리 장비 10조대 주문 쏟아진다', 'link': 'https://www.etnews.com/20231006000200'}, {'title': \"[人인사이트]도원동 커런트닷 대표 “PM 반납·주차 문제 해결...편리하고 깨끗한 '동네'로”\", 'link': 'https://www.etnews.com/20231006000191'}, {'title': '[2023 국감]세수 펑크·오차율 논란…감세·재정준칙, 통계조작 도마에', 'link': 'https://www.etnews.com/20231006000187'}, {'title': \"[2023 중소기업우수제품]스타양행 '뷰티 다용도 정리함'\", 'link': 'https://www.etnews.com/20231006000158'}, {'title': '기업가형 소상공인 별도 법 제정 추진…700만 소상공인 정책 지원 세분화 물꼬', 'link': 'https://www.etnews.com/20231006000153'}, {'title': '차세대 반도체 시장 빅뱅…“전문인력 양성 정책 마련해야”', 'link': 'https://www.etnews.com/20231006000150'}, {'title': '[이상직 변호사의 디지털 창세기]〈37〉보이스피싱 언론, 가짜뉴스', 'link': 'https://www.etnews.com/20231006000145'}, {'title': \"[맥스트의 메타버스] “새로운 경험·감동 전할 메타버스 '틀로나 월드' 연말 공개”\", 'link': 'https://www.etnews.com/20231009000059'}, {'title': \"XR 게임체인저 '메타 퀘스트3', 10일 국내 출격... 韓 게임사도 부각\", 'link': 'https://www.etnews.com/20231006000186'}, {'title': '방통위, 인앱결제법 위반 구글·애플에 680억원 과징금 부과...글로벌 시장에도 파장 예고', 'link': 'https://www.etnews.com/20231006000159'}, {'title': '코소시스 엔드포인트 프로텍터 V5, 맥OS 14 소노마 지원', 'link': 'https://www.etnews.com/20231006000157'}, {'title': \"'포블' 오리엔탈 판타지 NFT로 구현\", 'link': 'https://www.etnews.com/20231006000147'}, {'title': \"[단독]'연간 거래액 2조원' 전자금융업자 재해복구센터 구축 의무화\", 'link': 'https://www.etnews.com/20231006000140'}, {'title': \"'도전! K-스타트업 2023' 왕중왕전 진출 30개팀 선발\", 'link': 'https://www.etnews.com/20231009000029'}, {'title': '[모빌리티 빅뱅]한지형 오토노머스에이투지 대표 “국내 완전 자율주행 생태계 육성…글로벌 시장 진출”', 'link': 'https://www.etnews.com/20231009000026'}, {'title': \"[모빌리티 빅뱅]〈2〉운전자 없는 '레벨4' 자율주행 시대 열린다…韓 기업 도전장\", 'link': 'https://www.etnews.com/20231006000131'}, {'title': \"[모빌리티 빅뱅]자율주행 뛰어든 '빅테크', 완성차와 주도권 경쟁\", 'link': 'https://www.etnews.com/20231006000128'}, {'title': \"“AI로 특허 가치 평가”…지식재산평가관리센터 'SMART5' 고도화 추진\", 'link': 'https://www.etnews.com/20231006000024'}, {'title': \"장덕현 '전장' 육성 통했다…현대차 1차 협력사 선정\", 'link': 'https://www.etnews.com/20231009000056'}, {'title': '유럽도 C-ITS 법제화 완료…업계 “한국은 표준경쟁으로 지지부진, 5G 로드맵 서둘러야”', 'link': 'https://www.etnews.com/20231009000047'}, {'title': '휴네시온, 오투원즈-펀그라운드 M&A 지원…톱티어 OT보안 전문기업 성장', 'link': 'https://www.etnews.com/20231006000165'}, {'title': '제1회 SUP DOG 대회 개최', 'link': 'https://www.etnews.com/20231009000093'}, {'title': '반려견 동반 패들보드(SUP) 대회 수상자들과 함께', 'link': 'https://www.etnews.com/20231009000092'}, {'title': '이재명, 퇴원 직후 강서행… “압도적 승리로 국민의 무서움 확신시켜야”', 'link': 'https://www.etnews.com/20231009000091'}, {'title': '배터리 초대형 발주 쏟아진다...연말까지 장비 수주 랠리 [숏잇슈]', 'link': 'https://www.etnews.com/20231009000090'}, {'title': \"금융투자사 검사 인력 30% 증원...대규모 횡령·배임시 '원스트라이크 아웃'\", 'link': 'https://www.etnews.com/20231009000088'}, {'title': \"오비맥주 한맥, '슬로우 라이프 슬로우 라이브 2023'에 부드럽고 감미로운 가을 감성 만끽\", 'link': 'https://www.etnews.com/20231009000087'}, {'title': \"SM 인기 뜨겁다…엔시티 127-디오, 한터 10월 2주차트 '1위'\", 'link': 'https://www.etnews.com/20231009000085'}, {'title': '행안부, IT 부서 3개 통합···IT 전문가 전면 배치', 'link': 'https://www.etnews.com/20231006000125'}, {'title': \"정부, 디지털 기본 원칙 과제 발굴…'종이없는 행정' 속도\", 'link': 'https://www.etnews.com/20231006000123'}, {'title': '에듀테크 코리아 페어 수출 상담 3245만달러 규모…해외진출 물꼬', 'link': 'https://www.etnews.com/20231006000120'}, {'title': '추경호, IMF·WB 모로코 총회 출국…“글로벌 공급망 강화”', 'link': 'https://www.etnews.com/20231009000082'}, {'title': '[부음]김민철(더불어민주당 국회의원)씨 장모상', 'link': 'https://www.etnews.com/20231009000079'}, {'title': '[손병채의 센스메이킹]〈22〉혁신가를 알아보는 렌즈, 시스템', 'link': 'https://www.etnews.com/20231009000069'}, {'title': '[사설]OTT 글로벌화 신호탄 되기를', 'link': 'https://www.etnews.com/20231009000061'}, {'title': '21대 국회 마지막 국감…오염수·양평고속도·우주항공청법 놓고 극한 대치 예고', 'link': 'https://www.etnews.com/20231009000060'}, {'title': '[2023 국감]환노위는 홍수와 노란봉투, 국토위는 서울-양평 여전히 쟁점', 'link': 'https://www.etnews.com/20231006000273'}, {'title': '퇴근하고 두 시간 더 일하면 월 사백만 원 더 벌 수 있다? [지브라도의 #트렌드로그]', 'link': 'https://www.etnews.com/20231006000208'}, {'title': \"BMW, 내년 韓에 전기차 충전기 '1000기' 구축\", 'link': 'https://www.etnews.com/20231005000308'}, {'title': '달나라에서 숙박?…NASA “2040년까지 달에 민간주택 건설한다”', 'link': 'https://www.etnews.com/20231006000081'}, {'title': '노트북도 폴더블 경쟁…신제품 출시 잇따라', 'link': 'https://www.etnews.com/20231006000210'}, {'title': '이통 3사, 아이폰15 공시지원금 최대 45만원', 'link': 'https://www.etnews.com/20231006000353'}, {'title': '픽셀8, 아이폰15 등 스마트폰에 AI 채택 붐', 'link': 'https://www.etnews.com/20231006000174'}, {'title': '[속보] 이균용 대법원장 후보자 임명동의안, 국회서 부결', 'link': 'https://www.etnews.com/20231006000175'}, {'title': '[디지털 라이프] 세라젬 웰카페, 안마의자서 왕이 즐기던 약차 한 잔 “休~”', 'link': 'https://www.etnews.com/20231005000082'}, {'title': \"현대차그룹, 부산 새긴 '아트카' 파리 달린다\", 'link': 'https://www.etnews.com/20231006000220'}, {'title': '35년 만에 이균용 대법원장 임명동의안 부결… 與 “사법부 공백” 野 “실패한 인사”', 'link': 'https://www.etnews.com/20231006000197'}, {'title': 'HP, 이동식 일체형 PC·폴더블 PC 신제품 출시', 'link': 'https://www.etnews.com/20231006000136'}, {'title': '[ET라씨로]에이스테크, 권리매도 첫날 하락세', 'link': 'https://www.etnews.com/20231006000046'}, {'title': \"바이든 대통령 반려견, '사람 공격 11번'에 결국 백악관서 퇴출\", 'link': 'https://www.etnews.com/20231006000154'}, {'title': '현대차, 伊이베코그룹과 수소버스 첫 공개…한번 충전에 450㎞ 주행', 'link': 'https://www.etnews.com/20231008000006'}, {'title': \"“부활 시동”…삼성, 차세대 AP '엑시노스 2400' 공개\", 'link': 'https://www.etnews.com/20231006000051'}, {'title': \"[ET라씨로]휴맥스홀딩스, 현대차·기아 '테슬라 충전 방식' 채택에 상승세\", 'link': 'https://www.etnews.com/20231006000149'}, {'title': '뺑소니 당한 여성 또 깔고 지나간 美 자율주행차…긴급조치 못해 중상', 'link': 'https://www.etnews.com/20231005000344'}, {'title': '[오늘의 운세] 2023년 10월 06일 띠별 운세', 'link': 'https://www.etnews.com/20231006000053'}, {'title': \"'소록도 천사' 故 마가렛 간호사, 자국 의대에 시신 기증…마지막까지 베풀었다\", 'link': 'https://www.etnews.com/20231006000205'}]\n"
     ]
    }
   ],
   "source": [
    "# [단계 1] 모든 RSS(xml 형식)을 돌아다니며 기사 제목/link 추출\n",
    "# urls는 우리가 검색할 RSS의 목록을 list로 만든 것\n",
    "urls = [\"http://rss.etnews.com/Section901.xml\",\n",
    "        \"http://rss.etnews.com/Section902.xml\",\n",
    "        \"http://rss.etnews.com/Section903.xml\",\n",
    "        \"http://rss.etnews.com/Section904.xml\"]\n",
    "\n",
    "# 아래 함수는 RSS 목록의 list안에 존재하는 모든 기사의 title, link를 list로 구성\n",
    "def crawl_rss(urls):\n",
    "    array_rss = []                                                      # 함수 시작하는 시점에 빈 리스트 만듦, 여기에 모든 기사 채울것\n",
    "    titles_rss = set()                                                  # [중복기사제거] 기사제목들의 집합을 구성(집합은 중복 불허)\n",
    "\n",
    "    for url in urls:                                                    # 모든 RSS파일 하나씩 방문\n",
    "        print(\"[Crawl RSS]\", url)                                       # 현재 위치 출력\n",
    "        parse_rss = feedparser.parse(url)                               # 현재 url 파싱 후 결과를 parse_rss에 저장\n",
    "\n",
    "        for p in parse_rss.entries:                                     # parse_rss에 있는 모든 entries/기사 검색\n",
    "            if p.title not in titles_rss:                               # [중복기사제거] 만약 titles_rss에 동일한 제목이 없다면 추가\n",
    "                array_rss.append({'title': p.title, 'link': p.link})    # 기사에서 제목/link 추출 후 리스트에 추가\n",
    "                titles_rss.add(p.title)                                 # [중복기사제거] 집합에 현재 기사제목이 없을 때만 추가\n",
    "            else:\n",
    "                print(\"Duplicated Article:\", p.title)                   # [중복기사제거] 중복되는 기사의 제목 출력\n",
    "    return array_rss\n",
    "\n",
    "list_articles = crawl_rss(urls)\n",
    "print(list_articles)"
   ]
  },
  {
   "cell_type": "code",
   "execution_count": 9,
   "metadata": {},
   "outputs": [
    {
     "name": "stdout",
     "output_type": "stream",
     "text": [
      "Crawl Article https://www.etnews.com/20231006000156\n",
      "Crawl Article https://www.etnews.com/20231009000089\n",
      "Crawl Article https://www.etnews.com/20231009000063\n",
      "Crawl Article https://www.etnews.com/20231006000118\n",
      "Crawl Article https://www.etnews.com/20231009000083\n",
      "Crawl Article https://www.etnews.com/20231009000011\n",
      "Crawl Article https://www.etnews.com/20231009000008\n",
      "Crawl Article https://www.etnews.com/20231007000013\n",
      "Crawl Article https://www.etnews.com/20231006000201\n",
      "Crawl Article https://www.etnews.com/20231006000200\n",
      "Crawl Article https://www.etnews.com/20231006000191\n",
      "Crawl Article https://www.etnews.com/20231006000187\n",
      "Crawl Article https://www.etnews.com/20231006000158\n",
      "Crawl Article https://www.etnews.com/20231006000153\n",
      "Crawl Article https://www.etnews.com/20231006000150\n",
      "Crawl Article https://www.etnews.com/20231006000145\n",
      "Crawl Article https://www.etnews.com/20231009000059\n",
      "Crawl Article https://www.etnews.com/20231006000186\n",
      "Crawl Article https://www.etnews.com/20231006000159\n",
      "Crawl Article https://www.etnews.com/20231006000157\n",
      "Crawl Article https://www.etnews.com/20231006000147\n",
      "Crawl Article https://www.etnews.com/20231006000140\n",
      "Crawl Article https://www.etnews.com/20231009000029\n",
      "Crawl Article https://www.etnews.com/20231009000026\n",
      "Crawl Article https://www.etnews.com/20231006000131\n",
      "Crawl Article https://www.etnews.com/20231006000128\n",
      "Crawl Article https://www.etnews.com/20231006000024\n",
      "Crawl Article https://www.etnews.com/20231009000056\n",
      "Crawl Article https://www.etnews.com/20231009000047\n",
      "Crawl Article https://www.etnews.com/20231006000165\n",
      "Crawl Article https://www.etnews.com/20231009000093\n",
      "Crawl Article https://www.etnews.com/20231009000092\n",
      "Crawl Article https://www.etnews.com/20231009000091\n",
      "Crawl Article https://www.etnews.com/20231009000090\n",
      "Crawl Article https://www.etnews.com/20231009000088\n",
      "Crawl Article https://www.etnews.com/20231009000087\n",
      "Crawl Article https://www.etnews.com/20231009000085\n",
      "Crawl Article https://www.etnews.com/20231006000125\n",
      "Crawl Article https://www.etnews.com/20231006000123\n",
      "Crawl Article https://www.etnews.com/20231006000120\n",
      "Crawl Article https://www.etnews.com/20231009000082\n",
      "Crawl Article https://www.etnews.com/20231009000079\n",
      "Crawl Article https://www.etnews.com/20231009000069\n",
      "Crawl Article https://www.etnews.com/20231009000061\n",
      "Crawl Article https://www.etnews.com/20231009000060\n",
      "Crawl Article https://www.etnews.com/20231006000273\n",
      "Crawl Article https://www.etnews.com/20231006000208\n",
      "Crawl Article https://www.etnews.com/20231005000308\n",
      "Crawl Article https://www.etnews.com/20231006000081\n",
      "Crawl Article https://www.etnews.com/20231006000210\n",
      "Crawl Article https://www.etnews.com/20231006000353\n",
      "Crawl Article https://www.etnews.com/20231006000174\n",
      "Crawl Article https://www.etnews.com/20231006000175\n",
      "Crawl Article https://www.etnews.com/20231005000082\n",
      "Crawl Article https://www.etnews.com/20231006000220\n",
      "Crawl Article https://www.etnews.com/20231006000197\n",
      "Crawl Article https://www.etnews.com/20231006000136\n",
      "Crawl Article https://www.etnews.com/20231006000046\n",
      "Crawl Article https://www.etnews.com/20231006000154\n",
      "Crawl Article https://www.etnews.com/20231008000006\n",
      "Crawl Article https://www.etnews.com/20231006000051\n",
      "Crawl Article https://www.etnews.com/20231006000149\n",
      "Crawl Article https://www.etnews.com/20231005000344\n",
      "Crawl Article https://www.etnews.com/20231006000053\n",
      "Crawl Article https://www.etnews.com/20231006000205\n",
      "{'title': '전금업계 DR센터 의무화...“후방시장 활성화” VS “과도한 규제”', 'link': 'https://www.etnews.com/20231006000156', 'text': \"전자금융업자에도 재해복구(DR)센터 구축이 의무화되며 DR시스템 후방 시장은 기대감을 표하고 있다. 한편, 일각에서는 막대한 DR센터 구축 비용이 중소 전금업자에 과도한 부담일뿐 아니라 편의주의적 규제라는 목소리도 나온다.\\n\\n\\n\\n9일 업계에 따르면 향후 전자금융감독규정 개정에 따라 연간거래액 2조원 이상 전금업자들도 DR센터 구축 의무를 지니게 된다.\\n\\n\\n\\n전자금융감독규정에 따르면 현재 국내 금융사에 적용되는 규정은 △금융사들은 재해에 대비해 재해복구센터를 주전산센터와 일정 거리 이상 떨어진 안전한 장소에 구축·운용할 것 △금융사들의 핵심업무의 복구목표시간은 3시간 이내로 하되, 보험업법에 의한 보험회사의 핵심업무의 경우에는 24시간 이내에 복구할 수 있는 체계를 갖출 것 △매년 1회 이상 재해복구센터로 실제 전환하는 재해복구전환훈련을 실시할 것 등이다.\\n\\n\\n\\n금감원이 지난해 연간거래액 2조원 이상 전금업자를 대상으로 시뮬레이션한 결과 신규 DR센터를 구축해야 하는 곳은 10여개사에 해당한다. 선불전자지급수단, 간편결제 등 시장이 커짐에 따라 연간 거래액 2조원을 넘어서는 전금업자들도 계속 추가될 것으로 보인다. 자체적으로 DR센터를 운영중인 곳들도 금융당국 기준에 맞춰 DR센터 운영체계와 시스템을 보완해야 한다.\\n\\n\\n\\n전금업자 DR센터 구축 의무화가 시행됨에 따라 DR 시장은 기대감을 내비치고 있다. 지난해 '카카오 먹통' 사태 이후 DR 필요성이 강조되며 관련 시장은 활기를 띄었다. 산업 전반에 걸쳐 디지털전환 바람이 일며 전통 금융뿐 아니라 온라인 쇼핑몰, 전자결제까지 DR 시스템 구축이 늘어나는 추세다.\\n\\n\\n\\n업계 관계자는 “금융권에 생성형AI가 도입되는 등 데이터가 큰 폭으로 늘어나며 DR센터 수요가 늘 것으로 예상돼 업계에도 훈풍이 예상된다”면서 “전금업자까지 DR센터 구축 의무화에 포함됨에 따라 신수요창출이 기대된다”고 말했다.\\n\\n\\n\\n반면 중소 전금업자들을 중심으로는 DR센터 구축의무화가 과도한 규제라는 목소리가 나온다. '연간 거래액 2조'라는 일괄적 기준에 대한 반발도 존재한다. 금융당국이 당초 영세한 중소 전금업자에게 감독규정 개정이 부담이 될 수 있다는 점을 감안해 세부적으로 기준을 검토하겠다고 했지만, 결국 거래 규모로 기준을 설정해 중소 전금업자들도 막대한 부담을 지게 됐다는 것이다.\\n\\n\\n\\nDR센터는 단순 건립뿐 아니라 유지, 운영 등 과정에서 시간과 비용투자가 상당하다. 평균 두 자릿수 조 단위 거래액규모를 가진 상위업체에 비해 훨씬 적은 비중을 차지하는 중소 전금업자들은 수백억~수조원대에 이르는 DR센터 구축 의무화가 부담일 수밖에 없다.\\n\\n\\n\\n실제 지난해 금감원이 발표한 자료에 따르면, 월평균 거래규모가 1000억원 이상인 네이버페이, 쿠팡페이, 카카오페이, 지마켓 등 10개사 연간 거래규모 합계는 106조원으로 전체 거래규모 약 96.4%를 차지한다. 중소 전금업자들이 짊어 질 부담에 비해 실익이 크지 않다는 것이다.\\n\\n\\n\\n업계는 안정성 강화와 금융피해 방지를 위한 대응방안 마련에 동의하면서도 비용과 효율성도 함께 따져야 한다고 주장한다. 사고 대응 프로세스 의무화가 아닌 그 방식에 해당하는 DR센터 의무화가 편의주의적인 기술규제라는 지적이다.\\n\\n\\n\\n전금업계 관계자는 “전자금융사고 방지와 사고 발생 시 대응 프로세스를 강화하는 취지에는 동의하지만 보다 세세한 기준과 점검이 동반되어야한다”면서 “이미 클라우드 기반 대응 체계를 가동 중임에도 DR센터 구축 의무화라는 일괄적 규제에 부담이 큰 상황”이라고 말했다.\\n\\n\\n\\n정다은 기자 dandan@etnews.com, 류태웅 기자 bigheroryu@etnews.com\"}\n"
     ]
    }
   ],
   "source": [
    "# [단계 2] list에 존재하는 모든 링크를 돌아다니며 본문 text를 추출\n",
    "\n",
    "# 아래 함수는 하나의 url을 입력 받아서, 링크를 타고 들어가, 그 안에 title과 text를 추출한다.\n",
    "# default로 한들을 지정한다\n",
    "def crawl_article(url, language='ko'):\n",
    "    print(\"Crawl Article\", url)                                 # 현재 title과 text를 추출한 url을 프린트\n",
    "    a = Article(url, language=language)                         # Article을 사용하여 그 URL을 입력하고, 언어옵션 지정, a에 저장\n",
    "    a.download()                                                # a에 해당하는 url기사 다운로드\n",
    "    a.parse()                                                   # a에 해당하는 url기사 분석\n",
    "\n",
    "    return a.title, preprocessing(a.text)\n",
    "\n",
    "def preprocessing(text):\n",
    "    # html 태그 제거\n",
    "    text_article = BeautifulSoup(text, 'html5lib').get_text()\n",
    "\n",
    "    return text_article\n",
    "\n",
    "for article in list_articles:                                   # list에 있는 모든 기사를 하나씩 방문\n",
    "    _, text = crawl_article(article['link'])                    # 그 기사의 link를 crawl_article함수에 넣어 본문 추출\n",
    "    article['text'] = text                                      # 추출된 본문을 list_articles에 'text'라는 속성 새로 만들어 저장\n",
    "\n",
    "print(list_articles[0])                                         # 첫 번째 기사를 출력(title, link, text 모두)"
   ]
  },
  {
   "cell_type": "code",
   "execution_count": 13,
   "metadata": {},
   "outputs": [
    {
     "name": "stdout",
     "output_type": "stream",
     "text": [
      "(65, 5000)\n",
      "[[0.03771623]]\n"
     ]
    }
   ],
   "source": [
    "# [단계 3] 본문 text를 cosine_similarit를 활용하여 유사도 판단\n",
    "from sklearn.feature_extraction.text import TfidfVectorizer         # 벡터화\n",
    "from sklearn.metrics.pairwise import cosine_similarity              # 코사인 유사도 판단 위해\n",
    "\n",
    "# 리스트에 있는 모든 기사들을 돌아다니며 text를 뽑아냄\n",
    "text_articles = [article['text'] for article in list_articles]\n",
    "\n",
    "# 주어진 문장을 벡터로 만드는 객체를 생성\n",
    "encoder = TfidfVectorizer(max_features=5000)\n",
    "\n",
    "# fit_transform 함수를 써서 5000사이즈 벡터로 기사를 변환\n",
    "# 아래의 matrix_vectors 행렬은 이 모든 기사를 5000사이즈 벡터로 만든 후 data matrix를 구성한 것\n",
    "matrix_vectors = encoder.fit_transform(text_articles)\n",
    "print(matrix_vectors.shape)                                         # 총 65개의 기사\n",
    "\n",
    "# 첫 번째 기사와 두 번째 기사가 얼마나 유사한지 비교\n",
    "print(cosine_similarity(matrix_vectors[0], matrix_vectors[1]))"
   ]
  },
  {
   "cell_type": "code",
   "execution_count": null,
   "metadata": {},
   "outputs": [],
   "source": []
  }
 ],
 "metadata": {
  "kernelspec": {
   "display_name": "base",
   "language": "python",
   "name": "python3"
  },
  "language_info": {
   "codemirror_mode": {
    "name": "ipython",
    "version": 3
   },
   "file_extension": ".py",
   "mimetype": "text/x-python",
   "name": "python",
   "nbconvert_exporter": "python",
   "pygments_lexer": "ipython3",
   "version": "3.9.13"
  }
 },
 "nbformat": 4,
 "nbformat_minor": 2
}
